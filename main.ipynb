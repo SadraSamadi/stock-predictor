{
  "nbformat": 4,
  "nbformat_minor": 0,
  "metadata": {
    "kernelspec": {
      "display_name": "Python 3",
      "language": "python",
      "name": "python3"
    },
    "language_info": {
      "codemirror_mode": {
        "name": "ipython",
        "version": 3
      },
      "file_extension": ".py",
      "mimetype": "text/x-python",
      "name": "python",
      "nbconvert_exporter": "python",
      "pygments_lexer": "ipython3",
      "version": "3.7.3"
    },
    "colab": {
      "name": "llll.ipynb",
      "provenance": [],
      "toc_visible": true
    }
  },
  "cells": [
    {
      "cell_type": "markdown",
      "metadata": {
        "id": "ZYibEQQ8SDSF",
        "colab_type": "text"
      },
      "source": [
        "# Libraries in use"
      ]
    },
    {
      "cell_type": "code",
      "metadata": {
        "id": "QpmwbSSnSDSM",
        "colab_type": "code",
        "colab": {}
      },
      "source": [
        "#%pylab inline\n",
        "import pandas as pd\n",
        "import numpy as np\n",
        "import matplotlib.pyplot as plt\n",
        "plt.style.use('seaborn')\n",
        "#%matplotlib inline\n",
        "from datetime import datetime\n",
        "from sklearn.model_selection import train_test_split\n",
        "from sklearn.preprocessing import MinMaxScaler\n",
        "import keras\n",
        "from keras.layers import Dense, Dropout\n",
        "from keras.models import Sequential\n",
        "from sklearn import metrics"
      ],
      "execution_count": 0,
      "outputs": []
    },
    {
      "cell_type": "markdown",
      "metadata": {
        "id": "fUVEd7noSDSb",
        "colab_type": "text"
      },
      "source": [
        "# Data Preview"
      ]
    },
    {
      "cell_type": "code",
      "metadata": {
        "id": "y6Rqbs1_SDSe",
        "colab_type": "code",
        "outputId": "5266d0f5-c71a-4e86-f5d3-8eb41bc96098",
        "colab": {
          "base_uri": "https://localhost:8080/",
          "height": 528
        }
      },
      "source": [
        "dataset = pd.read_csv('IRO1NIKI0001_165288034.csv')\n",
        "dataset.drop(['Date','Time'], axis=1, inplace=True)\n",
        "plt.plot(dataset[\"Close\"])\n",
        "dataset.head(5)"
      ],
      "execution_count": 0,
      "outputs": [
        {
          "output_type": "execute_result",
          "data": {
            "text/html": [
              "<div>\n",
              "<style scoped>\n",
              "    .dataframe tbody tr th:only-of-type {\n",
              "        vertical-align: middle;\n",
              "    }\n",
              "\n",
              "    .dataframe tbody tr th {\n",
              "        vertical-align: top;\n",
              "    }\n",
              "\n",
              "    .dataframe thead th {\n",
              "        text-align: right;\n",
              "    }\n",
              "</style>\n",
              "<table border=\"1\" class=\"dataframe\">\n",
              "  <thead>\n",
              "    <tr style=\"text-align: right;\">\n",
              "      <th></th>\n",
              "      <th>Open</th>\n",
              "      <th>High</th>\n",
              "      <th>Low</th>\n",
              "      <th>Close</th>\n",
              "      <th>Volume</th>\n",
              "    </tr>\n",
              "  </thead>\n",
              "  <tbody>\n",
              "    <tr>\n",
              "      <th>0</th>\n",
              "      <td>1342</td>\n",
              "      <td>1412</td>\n",
              "      <td>1335</td>\n",
              "      <td>1335</td>\n",
              "      <td>8688194</td>\n",
              "    </tr>\n",
              "    <tr>\n",
              "      <th>1</th>\n",
              "      <td>1343</td>\n",
              "      <td>1344</td>\n",
              "      <td>1322</td>\n",
              "      <td>1328</td>\n",
              "      <td>3869651</td>\n",
              "    </tr>\n",
              "    <tr>\n",
              "      <th>2</th>\n",
              "      <td>1355</td>\n",
              "      <td>1377</td>\n",
              "      <td>1340</td>\n",
              "      <td>1366</td>\n",
              "      <td>1405458</td>\n",
              "    </tr>\n",
              "    <tr>\n",
              "      <th>3</th>\n",
              "      <td>1349</td>\n",
              "      <td>1370</td>\n",
              "      <td>1347</td>\n",
              "      <td>1360</td>\n",
              "      <td>806186</td>\n",
              "    </tr>\n",
              "    <tr>\n",
              "      <th>4</th>\n",
              "      <td>1350</td>\n",
              "      <td>1365</td>\n",
              "      <td>1349</td>\n",
              "      <td>1358</td>\n",
              "      <td>575378</td>\n",
              "    </tr>\n",
              "  </tbody>\n",
              "</table>\n",
              "</div>"
            ],
            "text/plain": [
              "   Open  High   Low  Close   Volume\n",
              "0  1342  1412  1335   1335  8688194\n",
              "1  1343  1344  1322   1328  3869651\n",
              "2  1355  1377  1340   1366  1405458\n",
              "3  1349  1370  1347   1360   806186\n",
              "4  1350  1365  1349   1358   575378"
            ]
          },
          "metadata": {
            "tags": []
          },
          "execution_count": 5
        },
        {
          "output_type": "display_data",
          "data": {
            "image/png": "[encoded data removed]",
            "text/plain": [
              "<Figure size 576x396 with 1 Axes>"
            ]
          },
          "metadata": {
            "tags": []
          }
        }
      ]
    },
    {
      "cell_type": "markdown",
      "metadata": {
        "id": "dWizqp1cSDSn",
        "colab_type": "text"
      },
      "source": [
        "# Data Preprocess And Make It Smoother"
      ]
    },
    {
      "cell_type": "code",
      "metadata": {
        "id": "bSEvuW1USDSp",
        "colab_type": "code",
        "colab": {}
      },
      "source": [
        "class DataPreprocessor:\n",
        "    # def __init__(self):\n",
        "    #     pass\n",
        "\n",
        "    def CustomSmoother(self, x, alpha = 0.2):  \n",
        "        s0 = x[0]\n",
        "        smoothed_statistic = [s0]\n",
        "        n = x.shape[0]\n",
        "        for i in range(1, n):\n",
        "            s1 = alpha * x[i] + (1 - alpha) * s0\n",
        "            smoothed_statistic.append(s1)\n",
        "            s0 = s1\n",
        "        smoothed_statistic = np.array(smoothed_statistic)\n",
        "        return pd.DataFrame(smoothed_statistic)\n",
        "\n",
        "    def PandaSmoother(self, x):\n",
        "        return pd.DataFrame(x).ewm(span=20).mean()"
      ],
      "execution_count": 0,
      "outputs": []
    },
    {
      "cell_type": "code",
      "metadata": {
        "id": "jqyo9dbKSDSw",
        "colab_type": "code",
        "outputId": "aa169020-a412-4dc2-bb66-cd711c7b11f5",
        "colab": {
          "base_uri": "https://localhost:8080/",
          "height": 366
        }
      },
      "source": [
        "smoother = DataPreprocessor()\n",
        "# ohclv_data = np.c_[dataset['Open'],\n",
        "#                    dataset['High'],\n",
        "#                    dataset['Low'],\n",
        "#                    dataset['Close'],\n",
        "#                    dataset['Volume']]\n",
        "smoothened_ohclv_data = smoother.CustomSmoother(dataset.values)\n",
        "smoothened_ohclv_data1 = smoother.PandaSmoother(dataset.values)\n",
        "\n",
        "#pd.set_option('display.max_rows', 500)\n",
        "plt.plot(dataset[\"Close\"])\n",
        "plt.plot(smoothened_ohclv_data[3])\n",
        "plt.plot(smoothened_ohclv_data1[3])\n",
        "\n",
        "#smoothened_ohclv_data.head(100)"
      ],
      "execution_count": 0,
      "outputs": [
        {
          "output_type": "execute_result",
          "data": {
            "text/plain": [
              "[<matplotlib.lines.Line2D at 0x7fc42617c5f8>]"
            ]
          },
          "metadata": {
            "tags": []
          },
          "execution_count": 7
        },
        {
          "output_type": "display_data",
          "data": {
            "image/png": "[encoded data removed]",
            "text/plain": [
              "<Figure size 576x396 with 1 Axes>"
            ]
          },
          "metadata": {
            "tags": []
          }
        }
      ]
    },
    {
      "cell_type": "markdown",
      "metadata": {
        "id": "h2v6hWerSDS7",
        "colab_type": "text"
      },
      "source": [
        "# Get Prepared Data With Technical Indicatos As Features\n",
        "### Indicators are included:\n",
        "### Exponential Weighted Moving Average (EMA), Relative Strength Index (RSI), Stochastic Oscillator, Williams, Moving Average Convergence Divergence (MACD),Price Rate Of Change, On Balance Volume"
      ]
    },
    {
      "cell_type": "code",
      "metadata": {
        "id": "TKJuCntdSDS_",
        "colab_type": "code",
        "colab": {}
      },
      "source": [
        "def ema(x, p):\n",
        "    #x = x.squeeze()\n",
        "    prev_ema = x[:p].mean()\n",
        "    ema = [prev_ema]\n",
        "    m = len(x)\n",
        "    multiplier = 2 / float(p + 1)\n",
        "    for i in range(p, m):\n",
        "        cur_ema = (x[i] - prev_ema) * multiplier + prev_ema\n",
        "        prev_ema = cur_ema\n",
        "        ema.append(cur_ema)\n",
        "    return np.array(ema)\n",
        "\n",
        "\n",
        "def getRSI(x):\n",
        "    #x = x.squeeze()\n",
        "    n = len(x)\n",
        "    x0 = x[:n - 1]\n",
        "    x1 = x[1:]\n",
        "    change = x1 - x0\n",
        "    avgGain = []\n",
        "    avgLoss = []\n",
        "    loss = 0\n",
        "    gain = 0\n",
        "    for i in range(14):\n",
        "        if change[i] > 0:\n",
        "            gain += change[i]\n",
        "        elif change[i] < 0:\n",
        "            loss += abs(change[i])\n",
        "    averageGain = gain / 14.0\n",
        "    averageLoss = loss / 14.0\n",
        "    avgGain.append(averageGain)\n",
        "    avgLoss.append(averageLoss)\n",
        "    for i in range(14, n - 1):\n",
        "        if change[i] >= 0:\n",
        "            avgGain.append((avgGain[-1] * 13 + change[i]) / 14.0)\n",
        "            avgLoss.append((avgLoss[-1] * 13) / 14.0)\n",
        "        else:\n",
        "            avgGain.append((avgGain[-1] * 13) / 14.0)\n",
        "            avgLoss.append((avgLoss[-1] * 13 + abs(change[i])) / 14.0)\n",
        "    avgGain = np.array(avgGain)\n",
        "    avgLoss = np.array(avgLoss)\n",
        "    RS = avgGain / avgLoss\n",
        "    RSI = 100 - (100 / (1 + RS))\n",
        "    return np.c_[RSI, x1[13:]]\n",
        "\n",
        "\n",
        "def getStochasticOscillator(x):\n",
        "    high = x[:, 1].squeeze()\n",
        "    low = x[:, 2].squeeze()\n",
        "    close = x[:, 3].squeeze()\n",
        "    n = len(high)\n",
        "    highestHigh = []\n",
        "    lowestLow = []\n",
        "    for i in range(n - 13):\n",
        "        highestHigh.append(high[i:i + 14].max())\n",
        "        lowestLow.append(low[i:i + 14].min())\n",
        "    highestHigh = np.array(highestHigh)\n",
        "    lowestLow = np.array(lowestLow)\n",
        "    k = 100 * ((close[13:] - lowestLow) / (highestHigh - lowestLow))\n",
        "\n",
        "    return np.c_[k, close[13:]]\n",
        "\n",
        "\n",
        "def getWilliams(x):\n",
        "    high = x[:, 1].squeeze()\n",
        "    low = x[:, 2].squeeze()\n",
        "    close = x[:, 3].squeeze()\n",
        "    n = len(high)\n",
        "    highestHigh = []\n",
        "    lowestLow = []\n",
        "    for i in range(n - 13):\n",
        "        highestHigh.append(high[i:i + 14].max())\n",
        "        lowestLow.append(low[i:i + 14].min())\n",
        "    highestHigh = np.array(highestHigh)\n",
        "    lowestLow = np.array(lowestLow)\n",
        "    w = -100 * ((highestHigh - close[13:]) / (highestHigh - lowestLow))\n",
        "    return np.c_[w, close[13:]]\n",
        "\n",
        "\n",
        "def getMACD(close):\n",
        "    ma1 = ema(close.squeeze(), 12)\n",
        "    ma2 = ema(close.squeeze(), 26)\n",
        "    macd = ma1[14:] - ma2\n",
        "    return np.c_[macd, close[len(close) - len(macd):]]\n",
        "\n",
        "\n",
        "def getPriceRateOfChange(close, n_days):\n",
        "    close = close.squeeze()\n",
        "    n = len(close)\n",
        "    x0 = close[:n - n_days]\n",
        "    x1 = close[n_days:]\n",
        "    PriceRateOfChange = (x1 - x0) / x0\n",
        "    return np.c_[PriceRateOfChange, x1]\n",
        "\n",
        "\n",
        "def getOnBalanceVolume(X):\n",
        "    close = X[:, 3].squeeze()\n",
        "    volume = X[:, 4].squeeze()[1:]\n",
        "    n = len(close)\n",
        "    x0 = close[:n - 1]\n",
        "    x1 = close[1:]\n",
        "    change = x1 - x0\n",
        "    OBV = []\n",
        "    prev_OBV = 0\n",
        "\n",
        "    for i in range(n - 1):\n",
        "        if change[i] > 0:\n",
        "            current_OBV = prev_OBV + volume[i]\n",
        "        elif change[i] < 0:\n",
        "            current_OBV = prev_OBV - volume[i]\n",
        "        else:\n",
        "            current_OBV = prev_OBV\n",
        "        OBV.append(current_OBV)\n",
        "        prev_OBV = current_OBV\n",
        "    OBV = np.array(OBV)\n",
        "    return np.c_[OBV, x1]\n"
      ],
      "execution_count": 0,
      "outputs": []
    },
    {
      "cell_type": "code",
      "metadata": {
        "id": "y54N4eIaSDTK",
        "colab_type": "code",
        "outputId": "400b36d0-e7f4-4d49-a001-aff2dc6422a8",
        "colab": {
          "base_uri": "https://localhost:8080/",
          "height": 481
        }
      },
      "source": [
        "days = 90\n",
        "ohclv_data = np.array(smoothened_ohclv_data)\n",
        "\n",
        "RSI = getRSI(ohclv_data[:, 3])\n",
        "# print(ohclv_data[:, 3])\n",
        "# print(\"kkkk\")\n",
        "# print(RSI)\n",
        "StochasticOscillator = getStochasticOscillator(ohclv_data)\n",
        "Williams = getWilliams(ohclv_data)\n",
        "\n",
        "MACD = getMACD(ohclv_data[:, 3])\n",
        "PROC = getPriceRateOfChange(ohclv_data[:, 3], days)\n",
        "OBV = getOnBalanceVolume(ohclv_data)\n",
        "\n",
        "min_len = min(len(RSI),\n",
        "              len(StochasticOscillator),\n",
        "              len(Williams),\n",
        "              len(MACD),\n",
        "              len(PROC),\n",
        "              len(OBV))\n",
        "\n",
        "RSI = RSI[len(RSI) - min_len:]\n",
        "StochasticOscillator = StochasticOscillator[len(StochasticOscillator) - min_len:]\n",
        "Williams = Williams[len(Williams) - min_len:]\n",
        "MACD = MACD[len(MACD) - min_len:]\n",
        "PROC = PROC[len(PROC) - min_len:]\n",
        "OBV = OBV[len(OBV) - min_len:]\n",
        "\n",
        "feature_matrix = np.c_[RSI[:, 0],\n",
        "                       StochasticOscillator[:, 0],\n",
        "                       Williams[:, 0],\n",
        "                       MACD[:, 0],\n",
        "                       PROC[:, 0],\n",
        "                       OBV[:, 0]]\n",
        "\n",
        "print(\"Size of feature matrix: \", feature_matrix.shape)\n",
        "number_of_samples = feature_matrix.shape[0]\n",
        "print(\"Number of samples: %d\" % number_of_samples)\n",
        "close = np.array(dataset['Close'])\n",
        "close = close[len(close) - number_of_samples:] #90 taye aval hazf shode\n",
        "y0 = close[:number_of_samples - days]\n",
        "y1 = close[days:]\n",
        "print(y0[:10])\n",
        "print(y1[:10])\n",
        "\n",
        "feature_matrix = feature_matrix[:number_of_samples - days]\n",
        "y = np.sign(y1 - y0)\n",
        "y[y == 0] = 1\n",
        "plt.hist(y)"
      ],
      "execution_count": 0,
      "outputs": [
        {
          "output_type": "stream",
          "text": [
            "Size of feature matrix:  (808, 6)\n",
            "Number of samples: 808\n",
            "[1895 1821 1816 1759 1771 1825 1741 1775 1807 1848]\n",
            "[1710 1708 1700 1738 1710 1714 1775 1792 1730 1745]\n"
          ],
          "name": "stdout"
        },
        {
          "output_type": "execute_result",
          "data": {
            "text/plain": [
              "(array([332.,   0.,   0.,   0.,   0.,   0.,   0.,   0.,   0., 386.]),\n",
              " array([-1. , -0.8, -0.6, -0.4, -0.2,  0. ,  0.2,  0.4,  0.6,  0.8,  1. ]),\n",
              " <a list of 10 Patch objects>)"
            ]
          },
          "metadata": {
            "tags": []
          },
          "execution_count": 9
        },
        {
          "output_type": "display_data",
          "data": {
            "image/png": "[encoded data removed]",
            "text/plain": [
              "<Figure size 576x396 with 1 Axes>"
            ]
          },
          "metadata": {
            "tags": []
          }
        }
      ]
    },
    {
      "cell_type": "markdown",
      "metadata": {
        "id": "FXzIZy4fSDTQ",
        "colab_type": "text"
      },
      "source": [
        "# Data random train and test subsets and normalization"
      ]
    },
    {
      "cell_type": "code",
      "metadata": {
        "id": "LcqiFQMVSDTU",
        "colab_type": "code",
        "outputId": "e75a7bc6-84e4-4739-81b4-117857273f73",
        "colab": {
          "base_uri": "https://localhost:8080/",
          "height": 36
        }
      },
      "source": [
        "X, X_test, y, y_test = train_test_split(feature_matrix, y) #random joda mikone bara test\n",
        "print(X.shape)\n",
        "# X = np.array(X).reshape(-1,6)\n",
        "# print(X.shape)\n",
        "y = np.array(y).reshape(-1,1)\n",
        "X_test = np.array(X_test).reshape(-1,6)\n",
        "y_test = np.array(y_test).reshape(-1,1)\n",
        "\n",
        "x_scaler = MinMaxScaler()\n",
        "y_scaler = MinMaxScaler() #adad ro beine sefr o yek mikone\n",
        "y = y_scaler.fit_transform(y)\n",
        "X = x_scaler.fit_transform(X)\n",
        "# print(X[0])\n",
        "\n",
        "# sigmoid = 1 / (1 + np.exp(-X[0]))\n",
        "# print(sigmoid)\n",
        "\n",
        "X_test = x_scaler.fit_transform(X_test)\n",
        "y_test = y_scaler.fit_transform(y_test)"
      ],
      "execution_count": 0,
      "outputs": [
        {
          "output_type": "stream",
          "text": [
            "(538, 6)\n"
          ],
          "name": "stdout"
        }
      ]
    },
    {
      "cell_type": "markdown",
      "metadata": {
        "id": "hmjPeqF5SDTd",
        "colab_type": "text"
      },
      "source": [
        "# 1) Define Network And Train It With Keras library"
      ]
    },
    {
      "cell_type": "code",
      "metadata": {
        "id": "3ziPoPbMSDTf",
        "colab_type": "code",
        "outputId": "6ce6a1d5-da3e-4830-8d41-1b138b1e23ce",
        "colab": {
          "base_uri": "https://localhost:8080/",
          "height": 114
        }
      },
      "source": [
        "model = Sequential()\n",
        "model.add(Dense(6, activation='relu'))\n",
        "model.add(Dense(10, activation='relu'))\n",
        "model.add(Dense(10, activation='relu'))\n",
        "model.add(Dense(10, activation='relu'))\n",
        "model.add(Dense(1, activation='linear'))\n",
        "\n",
        "model.compile(loss='mse', optimizer=keras.optimizers.SGD(lr=0.01), metrics=['acc'])"
      ],
      "execution_count": 0,
      "outputs": [
        {
          "output_type": "stream",
          "text": [
            "WARNING:tensorflow:From /usr/local/lib/python3.6/dist-packages/keras/backend/tensorflow_backend.py:66: The name tf.get_default_graph is deprecated. Please use tf.compat.v1.get_default_graph instead.\n",
            "\n",
            "WARNING:tensorflow:From /usr/local/lib/python3.6/dist-packages/keras/optimizers.py:793: The name tf.train.Optimizer is deprecated. Please use tf.compat.v1.train.Optimizer instead.\n",
            "\n"
          ],
          "name": "stdout"
        }
      ]
    },
    {
      "cell_type": "code",
      "metadata": {
        "id": "ooJRRsg0SDTt",
        "colab_type": "code",
        "outputId": "331de611-f895-458e-a492-9f01366037f3",
        "colab": {
          "base_uri": "https://localhost:8080/",
          "height": 438
        }
      },
      "source": [
        "history = model.fit(X,y,epochs=500,batch_size=32,validation_split=0.2,verbose=0)\n",
        "score = model.evaluate(X_test, y_test, verbose=0)\n",
        "Y_PREDICT = model.predict(X_test, batch_size=32)\n",
        "print(score)"
      ],
      "execution_count": 0,
      "outputs": [
        {
          "output_type": "stream",
          "text": [
            "WARNING:tensorflow:From /usr/local/lib/python3.6/dist-packages/keras/backend/tensorflow_backend.py:541: The name tf.placeholder is deprecated. Please use tf.compat.v1.placeholder instead.\n",
            "\n",
            "WARNING:tensorflow:From /usr/local/lib/python3.6/dist-packages/keras/backend/tensorflow_backend.py:4432: The name tf.random_uniform is deprecated. Please use tf.random.uniform instead.\n",
            "\n",
            "WARNING:tensorflow:From /usr/local/lib/python3.6/dist-packages/keras/backend/tensorflow_backend.py:1033: The name tf.assign_add is deprecated. Please use tf.compat.v1.assign_add instead.\n",
            "\n",
            "WARNING:tensorflow:From /usr/local/lib/python3.6/dist-packages/keras/backend/tensorflow_backend.py:1020: The name tf.assign is deprecated. Please use tf.compat.v1.assign instead.\n",
            "\n",
            "WARNING:tensorflow:From /usr/local/lib/python3.6/dist-packages/keras/backend/tensorflow_backend.py:3005: The name tf.Session is deprecated. Please use tf.compat.v1.Session instead.\n",
            "\n",
            "WARNING:tensorflow:From /usr/local/lib/python3.6/dist-packages/keras/backend/tensorflow_backend.py:190: The name tf.get_default_session is deprecated. Please use tf.compat.v1.get_default_session instead.\n",
            "\n",
            "WARNING:tensorflow:From /usr/local/lib/python3.6/dist-packages/keras/backend/tensorflow_backend.py:197: The name tf.ConfigProto is deprecated. Please use tf.compat.v1.ConfigProto instead.\n",
            "\n",
            "WARNING:tensorflow:From /usr/local/lib/python3.6/dist-packages/keras/backend/tensorflow_backend.py:207: The name tf.global_variables is deprecated. Please use tf.compat.v1.global_variables instead.\n",
            "\n",
            "WARNING:tensorflow:From /usr/local/lib/python3.6/dist-packages/keras/backend/tensorflow_backend.py:216: The name tf.is_variable_initialized is deprecated. Please use tf.compat.v1.is_variable_initialized instead.\n",
            "\n",
            "WARNING:tensorflow:From /usr/local/lib/python3.6/dist-packages/keras/backend/tensorflow_backend.py:223: The name tf.variables_initializer is deprecated. Please use tf.compat.v1.variables_initializer instead.\n",
            "\n",
            "[0.12484388020303515, 0.8388888915379842]\n"
          ],
          "name": "stdout"
        }
      ]
    },
    {
      "cell_type": "markdown",
      "metadata": {
        "id": "IoVXCQo3SDT0",
        "colab_type": "text"
      },
      "source": [
        "# Calculate All Metrics"
      ]
    },
    {
      "cell_type": "code",
      "metadata": {
        "id": "0GQWgt5tSDT5",
        "colab_type": "code",
        "outputId": "0b3f28f9-1166-4070-d92f-6b4dec128323",
        "colab": {
          "base_uri": "https://localhost:8080/",
          "height": 94
        }
      },
      "source": [
        "Y_PREDICT = [1 if x > 0.5 else 0 for x in Y_PREDICT]\n",
        "matrix = metrics.confusion_matrix(y_test, Y_PREDICT)\n",
        "recall = matrix[0][0]/(matrix[0][0]+matrix[1][0])\n",
        "precision = matrix[0][0]/(matrix[0][0]+matrix[0][1])\n",
        "print('Test loss:', score[0])\n",
        "print('Test total recall:', recall)\n",
        "print('Test total precision:', precision)\n",
        "print('Test total accuracy :', score[1])"
      ],
      "execution_count": 0,
      "outputs": [
        {
          "output_type": "stream",
          "text": [
            "Test loss: 0.12484388020303515\n",
            "Test total recall: 0.813953488372093\n",
            "Test total precision: 0.8433734939759037\n",
            "Test total accuracy : 0.8388888915379842\n"
          ],
          "name": "stdout"
        }
      ]
    },
    {
      "cell_type": "markdown",
      "metadata": {
        "id": "I0TClw2FSDUB",
        "colab_type": "text"
      },
      "source": [
        "# 2) Logistic Regression From Scratch"
      ]
    },
    {
      "cell_type": "code",
      "metadata": {
        "id": "EMNrrKhLSDUF",
        "colab_type": "code",
        "colab": {}
      },
      "source": [
        "# Your implementation\n",
        "def initialize_with_zeros(dim):\n",
        "    \n",
        "    #This function creates a vector of zeros of shape (dim, 1) for w and initializes b to 0.\n",
        "    \n",
        "    w = np.zeros((dim,1))\n",
        "    b = 0\n",
        "    assert(w.shape == (dim, 1))\n",
        "    assert(isinstance(b, float) or isinstance(b, int))\n",
        "    \n",
        "    return w, b\n",
        "    #w: initialized vector of shape (dim, 1)\n",
        "    #b: initialized scalar (corresponds to the bias)\n",
        "\n",
        "def sigmoid(z):\n",
        "    return 1 / (1 + np.exp(-z))\n",
        "\n",
        "def cost_function(y, a):\n",
        "    return -np.mean(y*np.log(a) + (1-y)*np.log(1-a))\n",
        "\n",
        "def optimize(w, b, X, Y, num_epochs, lr, print_cost = False):\n",
        "    costs = []\n",
        "    for epoch in range(num_epochs):\n",
        "    \n",
        "        # FORWARD PROPAGATION\n",
        "        m = X.shape[1] #mitone hazf she\n",
        "        Z = np.dot(w.T, X) + b #linear mult\n",
        "        A = sigmoid(Z)                                 \n",
        "        cost = cost_function(Y, A)  \n",
        "        cost = np.squeeze(cost)\n",
        "        assert(cost.shape == ())\n",
        "        back_require = { 'A': A }\n",
        "\n",
        "        # BACKWARD PROPAGATION\n",
        "        m = X.shape[1]\n",
        "        A = back_require['A']\n",
        "        dw = (1/m) * np.dot(X,(A-Y).T)\n",
        "        db = (1/m) * np.sum(A - Y)\n",
        "        assert(dw.shape == w.shape)\n",
        "        assert(db.dtype == float)\n",
        "        grads = {\"dw\": dw,\"db\": db}\n",
        "\n",
        "\n",
        "        dw = grads[\"dw\"] #weight hamon\n",
        "        db = grads[\"db\"] #bias ro sefr dar nazar gereftim\n",
        "\n",
        "        w -= lr*dw\n",
        "        b -= lr*db\n",
        "\n",
        "        # Record the costs\n",
        "        costs.append(cost)\n",
        "\n",
        "        # Print the cost every 100 training iterations\n",
        "        if print_cost and epoch % 100 == 0:\n",
        "            print (\"Cost after iteration %i: %f\" %(epoch, cost))\n",
        "    \n",
        "    params = {\"w\": w, \"b\": b}\n",
        "    grads = {\"dw\": dw, \"db\": db}\n",
        "    \n",
        "    return params, grads, costs"
      ],
      "execution_count": 0,
      "outputs": []
    },
    {
      "cell_type": "code",
      "metadata": {
        "id": "Ib55C8EvSDUO",
        "colab_type": "code",
        "colab": {}
      },
      "source": [
        "x_train = (np.asarray(X)).T\n",
        "y_train = (np.asarray(y)).T\n",
        "\n",
        "w, b = initialize_with_zeros(x_train.shape[0])\n",
        "params, grads, costs = optimize(w, b, x_train , y_train , num_epochs= 10000, lr = 1, print_cost = False)"
      ],
      "execution_count": 0,
      "outputs": []
    },
    {
      "cell_type": "markdown",
      "metadata": {
        "id": "7RlojzUdSDUW",
        "colab_type": "text"
      },
      "source": [
        "# Prediction and Evaluation"
      ]
    },
    {
      "cell_type": "code",
      "metadata": {
        "id": "A6LeHKkmSDUa",
        "colab_type": "code",
        "colab": {}
      },
      "source": [
        "# Your code\n",
        "def predict(w, b, X):\n",
        "    \n",
        "    m = X.shape[1]\n",
        "    Y_prediction = np.zeros((1,m))\n",
        "    \n",
        "    Z = np.dot(w.T, X) + b\n",
        "    A = sigmoid(Z)\n",
        "    \n",
        "    for i in range(m):\n",
        "        Y_prediction[0][i] = 1 if A[0][i] > .5 else 0\n",
        "    \n",
        "    assert(Y_prediction.shape == (1, m))\n",
        "    \n",
        "    return Y_prediction\n",
        "\n",
        "x_test = (np.asarray(X_test)).T\n",
        "y_test = (np.asarray(y_test))\n",
        "\n",
        "prediction = predict(params['w'], params['b'], np.asarray(x_test))\n",
        "preds = prediction[0]"
      ],
      "execution_count": 0,
      "outputs": []
    },
    {
      "cell_type": "markdown",
      "metadata": {
        "id": "ra_OsKS5SDUg",
        "colab_type": "text"
      },
      "source": [
        "# Confusion Matrix From Scratch\n",
        "\\\n",
        "$$\\text{Accuracy} = \\frac{TP + TN}{TP + FP + FN + TN}$$\n",
        "When it's actually yes, how often does it predict yes\n",
        "$$\\text{Precision} = \\frac{TP}{TP + FP}$$\n",
        "When it predicts yes, how often is it correct\n",
        "$$\\text{Recall} = \\frac{TP}{TP + FN}$$\n",
        "When it's actually yes, how often does it predict yes\n"
      ]
    },
    {
      "cell_type": "code",
      "metadata": {
        "id": "ZUfOlfrDSDUi",
        "colab_type": "code",
        "outputId": "49ed95f1-0173-4392-c0a2-c18115cbe9be",
        "colab": {
          "base_uri": "https://localhost:8080/",
          "height": 75
        }
      },
      "source": [
        "def ConfusionMatrix(preds, Y_test):\n",
        "    cm = [[0,0],[0,0]]\n",
        "    for i in range(0, len(preds)):\n",
        "        if preds[i] == Y_test[i]:\n",
        "            if preds[i] == 0:\n",
        "                cm[1][0] += 1\n",
        "            else:\n",
        "                cm[0][0] += 1\n",
        "        elif preds[i] == 0 and Y_test[i] == 1:\n",
        "            cm[0][1] += 1\n",
        "        else:\n",
        "            cm[1][1] += 1\n",
        "    return cm\n",
        "\n",
        "matrix = ConfusionMatrix(preds, y_test)\n",
        "accuracy = (matrix[0][0]+matrix[1][0])/(matrix[0][0]+matrix[0][1]+matrix[1][0]+matrix[1][1])\n",
        "print('Accuracy: ' + str(accuracy))\n",
        "precision = matrix[0][0]/(matrix[0][0]+matrix[0][1])\n",
        "print('Precision: ' + str(precision))\n",
        "recall = matrix[0][0]/(matrix[0][0]+matrix[1][0])\n",
        "print('Recall: ' + str(recall))\n"
      ],
      "execution_count": 0,
      "outputs": [
        {
          "output_type": "stream",
          "text": [
            "Accuracy: 0.7722222222222223\n",
            "Precision: 0.845360824742268\n",
            "Recall: 0.5899280575539568\n"
          ],
          "name": "stdout"
        }
      ]
    }
  ]
}